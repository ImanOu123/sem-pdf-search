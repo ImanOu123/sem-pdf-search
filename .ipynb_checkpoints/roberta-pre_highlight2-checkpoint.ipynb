{
 "cells": [
  {
   "cell_type": "code",
   "execution_count": 1,
   "id": "859fe1da",
   "metadata": {
    "scrolled": true
   },
   "outputs": [
    {
     "data": {
      "text/html": [
       "<script>\n",
       "code_show=true;\n",
       "function code_toggle() {\n",
       "    if (code_show){\n",
       "        $('div.input').hide();\n",
       "    } else {\n",
       "        $('div.input').show();\n",
       "    }\n",
       "    code_show = !code_show\n",
       "}\n",
       "$(document).ready(code_toggle);\n",
       "</script>\n",
       "Click <a href=\"javascript:code_toggle()\">here</a> to toggle on/off the code cells."
      ],
      "text/plain": [
       "<IPython.core.display.HTML object>"
      ]
     },
     "execution_count": 1,
     "metadata": {},
     "output_type": "execute_result"
    }
   ],
   "source": [
    "from IPython.display import HTML\n",
    "\n",
    "HTML('''<script>\n",
    "code_show=true;\n",
    "function code_toggle() {\n",
    "    if (code_show){\n",
    "        $('div.input').hide();\n",
    "    } else {\n",
    "        $('div.input').show();\n",
    "    }\n",
    "    code_show = !code_show\n",
    "}\n",
    "$(document).ready(code_toggle);\n",
    "</script>\n",
    "Click <a href=\"javascript:code_toggle()\">here</a> to toggle on/off the code cells.''')\n",
    "\n"
   ]
  },
  {
   "cell_type": "code",
   "execution_count": 8,
   "id": "c6ffe8ca",
   "metadata": {},
   "outputs": [
    {
     "data": {
      "application/vnd.jupyter.widget-view+json": {
       "model_id": "a6dd6fd01a56412184afaa653947f0e0",
       "version_major": 2,
       "version_minor": 0
      },
      "text/plain": [
       "FileUpload(value=(), description='Upload', multiple=True)"
      ]
     },
     "execution_count": 8,
     "metadata": {},
     "output_type": "execute_result"
    }
   ],
   "source": [
    "import ipywidgets as widgets\n",
    "from IPython.display import display\n",
    "import warnings\n",
    "warnings.filterwarnings('ignore')\n",
    "\n",
    "# Create the file upload widget\n",
    "file_upload = widgets.FileUpload(\n",
    "    accept='',  # Accepted file types (e.g., '.txt', '.pdf', '.jpg', '.csv', etc.); leave empty for all file types\n",
    "    multiple=True  # Set to True if you want to allow multiple files to be uploaded\n",
    ")\n",
    "\n",
    "# Display the widget\n",
    "file_upload"
   ]
  },
  {
   "cell_type": "code",
   "execution_count": 10,
   "id": "31977ae3",
   "metadata": {},
   "outputs": [
    {
     "ename": "AttributeError",
     "evalue": "'tuple' object has no attribute 'items'",
     "output_type": "error",
     "traceback": [
      "\u001b[0;31m---------------------------------------------------------------------------\u001b[0m",
      "\u001b[0;31mAttributeError\u001b[0m                            Traceback (most recent call last)",
      "Cell \u001b[0;32mIn[10], line 1\u001b[0m\n\u001b[0;32m----> 1\u001b[0m \u001b[38;5;28mprint\u001b[39m(\u001b[43mfile_upload\u001b[49m\u001b[38;5;241;43m.\u001b[39;49m\u001b[43mvalue\u001b[49m\u001b[38;5;241;43m.\u001b[39;49m\u001b[43mitems\u001b[49m())\n",
      "\u001b[0;31mAttributeError\u001b[0m: 'tuple' object has no attribute 'items'"
     ]
    }
   ],
   "source": [
    "print(file_upload.value.items())"
   ]
  },
  {
   "cell_type": "code",
   "execution_count": 9,
   "id": "240cf634",
   "metadata": {},
   "outputs": [
    {
     "data": {
      "application/vnd.jupyter.widget-view+json": {
       "model_id": "09a9038dbabd487e8911e9c485388b09",
       "version_major": 2,
       "version_minor": 0
      },
      "text/plain": [
       "Button(description='Load the data', style=ButtonStyle())"
      ]
     },
     "metadata": {},
     "output_type": "display_data"
    }
   ],
   "source": [
    "import io\n",
    "import PyPDF2\n",
    "import ipywidgets as widgets\n",
    "import torch\n",
    "from sentence_transformers import SentenceTransformer\n",
    "from transformers import AutoTokenizer, AutoModelForQuestionAnswering\n",
    "from sklearn.metrics.pairwise import cosine_similarity\n",
    "import numpy as np\n",
    "from tqdm import tqdm\n",
    "\n",
    "documents = []\n",
    "embeddings = []\n",
    "uploaded_file_data = []\n",
    "\n",
    "def create_embeddings(documents, model_name=\"paraphrase-MiniLM-L6-v2\"):\n",
    "    #device = torch.device(\"cuda\" if torch.cuda.is_available() else print(\"cpu\"))\n",
    "    model = SentenceTransformer(model_name)\n",
    "    #model.to(\"cuda\")\n",
    "    embeddings = model.encode(documents)\n",
    "    \n",
    "    return embeddings\n",
    "\n",
    "def split_string(input_string, chunk_size):\n",
    "    return [input_string[i:i+chunk_size] for i in range(0, len(input_string), chunk_size)]\n",
    "\n",
    "def upload_file(file_upload, i):\n",
    "    global documents\n",
    "    global embeddings\n",
    "\n",
    "    text_content = ''\n",
    "\n",
    "    # Get the uploaded file's content - NEW\n",
    "    for file, attributes in file_upload.value.items():\n",
    "        content = attributes.get('content') \n",
    "        uploaded_file_data.append(content)    \n",
    "    \n",
    "    uploaded_file_content = uploaded_file_data[i]\n",
    "\n",
    "    # Convert the uploaded file content to a readable file-like buffer\n",
    "    file_buffer = io.BytesIO(uploaded_file_content)\n",
    "\n",
    "    # Read the PDF file using PyPDF2\n",
    "    pdf_reader = PyPDF2.PdfReader(file_buffer)\n",
    "\n",
    "    # Extract the text content from the PDF\n",
    "    text_content = ''\n",
    "    for page_num in tqdm(range(len(pdf_reader.pages)), desc='Processing pages'):\n",
    "        page = pdf_reader.pages[page_num]\n",
    "        text_content += page.extract_text()\n",
    "\n",
    "    # on last iteration add the information to documents and embeddings\n",
    "    if page_num == (len(pdf_reader.pages)-1):\n",
    "        documents.append(split_string(text_content, 1000))\n",
    "    \n",
    "        # Create document embeddings for semantic search\n",
    "        embeddings.append(create_embeddings(documents[i]))        \n",
    "\n",
    "     \n",
    "# for file, attributes in file_upload.value.items():\n",
    "#     content = attributes.get('content') \n",
    "#     uploaded_file_data.append(content)\n",
    "    \n",
    "button = widgets.Button(description=\"Load the data\")\n",
    "\n",
    "def on_button_click(b):\n",
    "    if file_upload.value:\n",
    "        for i in range(len(file_upload.value)):\n",
    "            upload_file(file_upload, i)\n",
    "            print(\"Data loaded successfully!\")\n",
    "    else:\n",
    "        print(\"No files uploaded\")\n",
    "\n",
    "button.on_click(on_button_click)\n",
    "\n",
    "display(button)"
   ]
  },
  {
   "cell_type": "code",
   "execution_count": 12,
   "id": "55bdc6d2",
   "metadata": {},
   "outputs": [
    {
     "data": {
      "application/vnd.jupyter.widget-view+json": {
       "model_id": "e2f3dcd7ccc74a3797eacddedaaaf4d7",
       "version_major": 2,
       "version_minor": 0
      },
      "text/plain": [
       "Text(value='where do most complaints come from?', placeholder='Enter your question here')"
      ]
     },
     "metadata": {},
     "output_type": "display_data"
    },
    {
     "data": {
      "application/vnd.jupyter.widget-view+json": {
       "model_id": "378ae408b9984fabb6315967635f856b",
       "version_major": 2,
       "version_minor": 0
      },
      "text/plain": [
       "Button(description='Search', style=ButtonStyle())"
      ]
     },
     "metadata": {},
     "output_type": "display_data"
    },
    {
     "name": "stdout",
     "output_type": "stream",
     "text": [
      "Generating answers, please wait...\n",
      "Document : cfpb_complaint-bulletin_crypto-assets_2022-11.pdf, Answer 1: Disclosure of Consumer Complaint Narrative Data, 80 FR 15572 (Mar. 24, 2015), \n",
      "https://www.federalregister.gov/documents/2015/03/24/2015 -06722/disclosure -of-consumer -\n",
      "complaintnarrative -data . \n",
      "33 12 U.S.C. 5493(b) (3)(D).  \n",
      "34 See Consumer Fin\n",
      "Context: ll 50 states and the District of \n",
      "Columbia submitted complaints to the CFPB  about virtual currency  with the greatest  number of \n",
      "complaints coming from California (Figure 3) . In these complaints, t he most common \n",
      "consumer -selected issue was fraud and scam s, followed by transaction issues  (Figure 4). Within \n",
      "the “Fraud or scam”  complaints, consumers often report fraud ulent transactions , theft, account \n",
      "hacks, and scams  (Section 3).  \n",
      "  \n",
      " \n",
      "32 See Disclosure of Consumer Complaint Narrative Data, 80 FR 15572 (Mar. 24, 2015), \n",
      "https://www.federalregister.gov/documents/2015/03/24/2015 -06722/disclosure -of-consumer -\n",
      "complaintnarrative -data . \n",
      "33 12 U.S.C. 5493(b) (3)(D).  \n",
      "34 See Consumer Fin. Prot. Bureau, supra  note 23 at Section 1 ( How the CFPB uses complaint information ). 13 CONSUMER FINANCIAL PROTECTION BUREAU  FIGURE 3:  VIRTUAL CURRENCY COMPLAINT SUBMISSIONS  BY STATE , OCT. 2018 TO SEP. 2022  \n",
      " \n",
      "FIGURE 4:  VIRTUAL CURRENCY COMPLAINTS BY ISSUE, OCT . 2018 TO SEP. 2022 \n",
      "\n",
      "Document : cfpb_complaint-bulletin_crypto-assets_2022-11.pdf, Answer 2: \n",
      "Context: ship, whichever comes first.  \n",
      "There are two considerati ons researchers should keep in mind when analyzing complaints about \n",
      "crypto -assets:  \n",
      "1. When submitting  complaint s, consumers select the product or service that best \n",
      "describes the  one that is the subject of their complaint.31 Consumers generally select \n",
      "one of two categories  when submitting complaints about crypto -assets : virtual \n",
      "currency  and mobile or digital wallet . Consumers also submit complain ts in other \n",
      " \n",
      "28 Complaint data in this report are current as of October 1, 2022. This report excludes some complaints that the \n",
      "Bureau received, including multiple complaints submitted by a given consumer on the same issue (i.e., duplicates ), \n",
      "whistleblower tips, and complaints in which the CFPB discontinued processing because it had reason to believe that \n",
      "a submitter did not disclose their  involvement in the complaint process . Complaint numbers are rounded \n",
      "throughout the report; therefore, n umbers and percentages m\n",
      "\n",
      "Document : cfpb_complaint-bulletin_crypto-assets_2022-11.pdf, Answer 3: \n",
      "Context:  than \n",
      "half of all total crypto -asset complaints received by the CFPB thus far in \n",
      "2022. Crypto -asset complaint s and fraud reports have also been increasing at other \n",
      "federal agencies: The SEC has received over  23,000 tips, complaints, and referrals \n",
      "regarding crypto -assets since fiscal year 2019, with a particularly sharp increase in the \n",
      "last two years,6 while c rypto -asset losses reported to the FTC in 2021 were nearly sixty \n",
      "times more than in 2018.7 \n",
      "Consumer complaints describe  a wide range of account access and dispute resolution issues, \n",
      "including platform bankruptcies where their assets are indefinitely frozen, weeks -long waits due \n",
      "to account access problems, hours -long platform outages , difficulty executing  transactions , and \n",
      "poor customer service.  \n",
      "• Frozen accounts, platform bankruptcies, and consumer losses. Several large \n",
      "crypto -asset platforms have recently either frozen customers’ account withdrawals, filed \n",
      "for bankruptcy protection, or both. These failu\n",
      "\n",
      "Document : cfpb_complaint-bulletin_crypto-assets_2022-11.pdf, Answer 4: \n",
      "Context: on 6) .  \n",
      "11 CONSUMER FINANCIAL PROTECTION BUREAU  2.  Complaint data \n",
      "This report analyzes complaints submitted to the CFPB from October 2018 to September \n",
      "2022.28 When consumers submit complaints, the CFPB asks them to identify the consumer \n",
      "financial product or service with which they have a problem, the issue that best describes the \n",
      "problem, and the company to which they want to direct their complaint .29 The CFPB then routes \n",
      "consumers’ complaints directly to financial companies and works to get consumers a timely \n",
      "response.  When th e CFPB cannot  send  the complaint to a company, it refers the  complain t to \n",
      "other federal agencies , such as the Federal Trade Commission (FTC) . \n",
      "The CFPB also makes a subset of this data publicly available in the Consumer Complaint \n",
      "Database  (Database) .30 Complaints sent to companies for response are eligible to be published  \n",
      "in the Database  and are only published after 15 days or after the company responds, confirming \n",
      "a commercial relation\n",
      "\n",
      "Document : cfpb_complaint-bulletin_crypto-assets_2022-11.pdf, Answer 5: \n",
      "Context:  complaints, the \n",
      "most common issue selected was fraud and scams (40%), followed by transaction issues (with \n",
      "25% about the issue of “Other transaction problem ,” 16% about  “Money was not available when \n",
      "promised ,” and 12% about  “Other service problem”).  In addition, a nalyses suggest that \n",
      "complaints related to  crypto -assets may increase when the price of Bitcoin and other crypto -\n",
      "asset s increase.  \n",
      "This report finds that fraud, theft, hacks, and scams  are a significant problem in crypto -asset \n",
      "markets:  \n",
      "▪ The top issue across all crypto -asset complaints was “F raud or scam .” This \n",
      "issue appears to be getting worse , as fraud and scams make up more than half of “virtual \n",
      "currency ” complaints received thus far in 2022 . Some consumers stated that they have \n",
      "lost hundreds of thousands of dollars due to unauthorized acco unt access.  The \n",
      "prevalence of fraud and scam complaints raises the question of whether crypto -asset \n",
      "platforms are effectively identify ing and stop pin\n",
      "\n"
     ]
    }
   ],
   "source": [
    "import torch\n",
    "from sentence_transformers import SentenceTransformer\n",
    "from transformers import AutoTokenizer, AutoModelForQuestionAnswering\n",
    "from sklearn.metrics.pairwise import cosine_similarity\n",
    "import numpy as np\n",
    "from IPython.display import clear_output\n",
    "\n",
    "\n",
    "from transformers import logging\n",
    "\n",
    "logging.set_verbosity_error()\n",
    "\n",
    "def retrieve_passages(query, documents, embeddings, top_k=5):\n",
    "    model = SentenceTransformer(\"paraphrase-MiniLM-L6-v2\")\n",
    "    #model.to(\"cuda\")\n",
    "    query_embedding = model.encode([query])[0]\n",
    "    similarities = cosine_similarity(query_embedding.reshape(1, -1), embeddings)\n",
    "\n",
    "    top_indices = np.argsort(similarities[0])[-top_k:][::-1]\n",
    "\n",
    "    # print(top_indices)\n",
    "    return [documents[i] for i in top_indices]\n",
    "\n",
    "def extract_answer(question, passage, model_name=\"roberta-large\"):\n",
    "    tokenizer = AutoTokenizer.from_pretrained(model_name)\n",
    "    model = AutoModelForQuestionAnswering.from_pretrained(model_name)\n",
    "\n",
    "    inputs = tokenizer.encode_plus(question, str(passage), return_tensors=\"pt\", max_length=512, truncation=True, padding='max_length', return_offsets_mapping=True)\n",
    "    input_ids = inputs[\"input_ids\"]\n",
    "    attention_mask = inputs[\"attention_mask\"]\n",
    "    offset_mapping = inputs[\"offset_mapping\"].squeeze(0)\n",
    "\n",
    "    outputs = model(input_ids, attention_mask=attention_mask)\n",
    "\n",
    "    answer_start = torch.argmax(outputs.start_logits)\n",
    "    answer_end = torch.argmax(outputs.end_logits)\n",
    "\n",
    "    answer_start_char = offset_mapping[answer_start][0]\n",
    "    answer_end_char = offset_mapping[answer_end][1]\n",
    "    answer = passage[answer_start_char:answer_end_char]\n",
    "\n",
    "    return answer\n",
    "\n",
    "def qa_system(question, documents, embeddings, model_name=\"roberta-large\", top_k=5):\n",
    "        answers = []\n",
    "        keys = list(file_upload.value.keys())\n",
    "\n",
    "        # iterate over all files to extract answers from each one\n",
    "        for i in range(len(documents)):\n",
    "            passages = retrieve_passages(question, documents[i], embeddings[i], top_k=top_k)\n",
    "        \n",
    "            #print(passages)\n",
    "        \n",
    "            for passage in passages:\n",
    "                answer = extract_answer(question, passage, model_name=model_name)\n",
    "                answers.append({\"fileName\" : file_upload.value[keys[i]]['metadata']['name'], \"answer\": answer, \"context\": passage})\n",
    "\n",
    "        return answers\n",
    "\n",
    "import ipywidgets as widgets\n",
    "from IPython.display import display\n",
    "# This function is called when the button is clicked\n",
    "\n",
    "# Create the text field and button widgets\n",
    "text_field = widgets.Text(placeholder='Enter your question here')\n",
    "button = widgets.Button(description='Search')\n",
    "\n",
    "answers = []\n",
    "def on_button_click(button):\n",
    "    %clear\n",
    "    clear_output(wait=True)\n",
    "    # Get the text input from the text field\n",
    "    text_input = text_field.value\n",
    "    # Display the widgets\n",
    "    text_field.value = text_input\n",
    "    display(text_field, button)   \n",
    "    \n",
    "    \n",
    "    print(\"Generating answers, please wait...\")\n",
    "    # Retrieve answers using the QA system\n",
    "    global answers\n",
    "    answers = qa_system(text_input, documents, embeddings)\n",
    "\n",
    "    # Print the answers\n",
    "    for idx, answer in enumerate(answers):\n",
    "        print(f\"Document : {answer['fileName']}, Answer {idx + 1}: {answer['answer']}\\nContext: {answer['context']}\\n\")   \n",
    "        \n",
    "\n",
    "    if not answers: print(\"No answers available\")\n",
    "    # Call your function with the input and print the result\n",
    "    #result = your_function(text_input)\n",
    "    #print(result)\n",
    "\n",
    "\n",
    "\n",
    "# Set the callback function for the button\n",
    "button.on_click(on_button_click)\n",
    "\n",
    "# Display the widgets\n",
    "display(text_field, button)"
   ]
  },
  {
   "cell_type": "code",
   "execution_count": 14,
   "id": "94d290c9",
   "metadata": {},
   "outputs": [
    {
     "data": {
      "application/vnd.jupyter.widget-view+json": {
       "model_id": "f46943c617fc43c5941c99a1e615b4c8",
       "version_major": 2,
       "version_minor": 0
      },
      "text/plain": [
       "Output(layout=Layout(border='1px solid black', height='600px', width='400px'))"
      ]
     },
     "metadata": {},
     "output_type": "display_data"
    },
    {
     "data": {
      "application/vnd.jupyter.widget-view+json": {
       "model_id": "00717f30b0a24a7faf9b9fa0219889be",
       "version_major": 2,
       "version_minor": 0
      },
      "text/plain": [
       "Output(layout=Layout(height='50px', width='300px'))"
      ]
     },
     "metadata": {},
     "output_type": "display_data"
    },
    {
     "data": {
      "application/vnd.jupyter.widget-view+json": {
       "model_id": "fee089fd076b466898b9cb4ea223fb80",
       "version_major": 2,
       "version_minor": 0
      },
      "text/plain": [
       "Button(description='Clear', style=ButtonStyle())"
      ]
     },
     "metadata": {},
     "output_type": "display_data"
    },
    {
     "data": {
      "application/vnd.jupyter.widget-view+json": {
       "model_id": "24073515005747d5b3a34309744f51af",
       "version_major": 2,
       "version_minor": 0
      },
      "text/plain": [
       "HTML(value='<style>p{word-wrap: break-word}</style> <p> File Name: cfpb_complaint-bulletin_crypto-assets_2022-…"
      ]
     },
     "metadata": {},
     "output_type": "display_data"
    },
    {
     "data": {
      "application/vnd.jupyter.widget-view+json": {
       "model_id": "19aac6c75113466b858f31f2c3479fa6",
       "version_major": 2,
       "version_minor": 0
      },
      "text/plain": [
       "Button(description='Context', style=ButtonStyle())"
      ]
     },
     "metadata": {},
     "output_type": "display_data"
    },
    {
     "data": {
      "application/vnd.jupyter.widget-view+json": {
       "model_id": "2245b5c2fe764510b45c15592d2028f5",
       "version_major": 2,
       "version_minor": 0
      },
      "text/plain": [
       "HTML(value='<style>p{word-wrap: break-word}</style> <p> File Name: cfpb_complaint-bulletin_crypto-assets_2022-…"
      ]
     },
     "metadata": {},
     "output_type": "display_data"
    },
    {
     "data": {
      "application/vnd.jupyter.widget-view+json": {
       "model_id": "b77d6619097c485281d78afec5dac83d",
       "version_major": 2,
       "version_minor": 0
      },
      "text/plain": [
       "Button(description='Context', style=ButtonStyle())"
      ]
     },
     "metadata": {},
     "output_type": "display_data"
    },
    {
     "data": {
      "application/vnd.jupyter.widget-view+json": {
       "model_id": "af97150e26b14337a561007f5a5af34c",
       "version_major": 2,
       "version_minor": 0
      },
      "text/plain": [
       "HTML(value='<style>p{word-wrap: break-word}</style> <p> File Name: cfpb_complaint-bulletin_crypto-assets_2022-…"
      ]
     },
     "metadata": {},
     "output_type": "display_data"
    },
    {
     "data": {
      "application/vnd.jupyter.widget-view+json": {
       "model_id": "89aa93410d034a008e21d1141c0548ae",
       "version_major": 2,
       "version_minor": 0
      },
      "text/plain": [
       "Button(description='Context', style=ButtonStyle())"
      ]
     },
     "metadata": {},
     "output_type": "display_data"
    },
    {
     "data": {
      "application/vnd.jupyter.widget-view+json": {
       "model_id": "1005bb806f2d455a8d74e8ea29d89fca",
       "version_major": 2,
       "version_minor": 0
      },
      "text/plain": [
       "HTML(value='<style>p{word-wrap: break-word}</style> <p> File Name: cfpb_complaint-bulletin_crypto-assets_2022-…"
      ]
     },
     "metadata": {},
     "output_type": "display_data"
    },
    {
     "data": {
      "application/vnd.jupyter.widget-view+json": {
       "model_id": "c63d68fa84b34564ac4ff3fffbce18ec",
       "version_major": 2,
       "version_minor": 0
      },
      "text/plain": [
       "Button(description='Context', style=ButtonStyle())"
      ]
     },
     "metadata": {},
     "output_type": "display_data"
    },
    {
     "data": {
      "application/vnd.jupyter.widget-view+json": {
       "model_id": "20afbc8c8d4c4a499ae4ff42e7deb793",
       "version_major": 2,
       "version_minor": 0
      },
      "text/plain": [
       "HTML(value='<style>p{word-wrap: break-word}</style> <p> File Name: cfpb_complaint-bulletin_crypto-assets_2022-…"
      ]
     },
     "metadata": {},
     "output_type": "display_data"
    },
    {
     "data": {
      "application/vnd.jupyter.widget-view+json": {
       "model_id": "8eff3235e9e247a0a83edf18039d4bb5",
       "version_major": 2,
       "version_minor": 0
      },
      "text/plain": [
       "Button(description='Context', style=ButtonStyle())"
      ]
     },
     "metadata": {},
     "output_type": "display_data"
    }
   ],
   "source": [
    "import ipywidgets as widgets\n",
    "from IPython.display import display, IFrame\n",
    "import fitz \n",
    "import functools\n",
    "import string\n",
    "import os, sys, subprocess\n",
    "import webbrowser\n",
    "        \n",
    "def preprocess_context(context):\n",
    "    # removing hyphen, newline and non-ascii characters\n",
    "    contextFix = (context).replace(\"-\", \"\")\n",
    "\n",
    "    ascii_chars = set(string.printable)\n",
    "    contextFix = ''.join(filter(lambda x: x in ascii_chars, contextFix))\n",
    "\n",
    "    contextFixLst = contextFix.split(\"\\n\")\n",
    "\n",
    "    contextFixLstWOWhite = []\n",
    "    for contextFix in contextFixLst:\n",
    "        if not all(ch==\" \" for ch in contextFix):\n",
    "            contextFixLstWOWhite.append(contextFix)\n",
    "            \n",
    "    # split content into a list of lines\n",
    "    return contextFixLstWOWhite\n",
    "\n",
    "# to display relevant PDF\n",
    "out = widgets.Output(layout={'border': '1px solid black', 'width':'400px', 'height':'600px'})\n",
    "display(out)\n",
    "\n",
    "# to display page number\n",
    "outPgNum = widgets.Output(layout={'width':'300px', 'height':'50px'})\n",
    "display(outPgNum)\n",
    "\n",
    "# button to remove highlight and clear output \n",
    "fileToClear = ''\n",
    "clearBtn = widgets.Button(description=\"Clear\")\n",
    "\n",
    "foundPgNum = -1\n",
    "\n",
    "def clear_file():\n",
    "    if fileToClear != '':\n",
    "        pdfDoc = fitz.open(fileToClear)\n",
    "    \n",
    "        # iterates pages and removes annotations generated by fitz\n",
    "        for pgNum in range(len(pdfDoc)):\n",
    "            page = pdfDoc[pgNum]\n",
    "    \n",
    "            pdfDoc.xref_set_key(page.xref, \"Annots\", \"[]\")\n",
    "        \n",
    "        pdfDoc.save(fileToClear, incremental=True, encryption=fitz.PDF_ENCRYPT_KEEP)\n",
    "\n",
    "        # clear output cell \n",
    "        out.clear_output()\n",
    "        outPgNum.clear_output()\n",
    "\n",
    "def clear_btn_click(button): clear_file();\n",
    "clearBtn.on_click(clear_btn_click)\n",
    "display(clearBtn)\n",
    "\n",
    "# iterate through all answers \n",
    "for idx, answer in enumerate(answers):\n",
    "    \n",
    "    # display answer\n",
    "    label = widgets.HTML(value=\"<style>p{word-wrap: break-word}</style> <p> File Name: \" + answer['fileName'] + \"</p>\" + \n",
    "                         \"\\n<p> Answer: \" + answer['answer'] + \"</p>\")\n",
    "    display(label)\n",
    "\n",
    "    # button to highlight context on original PDF\n",
    "    button = widgets.Button(description='Context')\n",
    "\n",
    "    def on_button_click(button, fileInfo=(\"\", \"\")):\n",
    "        global foundPgNum\n",
    "        global fileToClear\n",
    "        \n",
    "        # if direct change from file to file, clear previous file\n",
    "        clear_file()\n",
    "        \n",
    "        pdfDoc = fitz.open(fileInfo[0])        \n",
    "        found = False\n",
    "        \n",
    "        # iterate through pages in file\n",
    "        for pgNum in range(len(pdfDoc)):\n",
    "            foundTxtLst = []\n",
    "            page = pdfDoc[pgNum]            \n",
    "            contextLst = preprocess_context(fileInfo[1])\n",
    "            \n",
    "            # highlight sections and open file\n",
    "            for context in contextLst:\n",
    "                # append to list of highlight rect to make a continuous rect\n",
    "                foundTxt = page.search_for(context)\n",
    "            \n",
    "                if foundTxt: \n",
    "                    # save pg number of where context is found\n",
    "                    if not found: \n",
    "                        foundPgNum = pgNum + 1\n",
    "                        found = True\n",
    "                    foundTxtLst = foundTxtLst + foundTxt\n",
    "                \n",
    "            # make more continuous highlight rect including all of the smaller rects of the found text\n",
    "            if foundTxtLst:\n",
    "\n",
    "                # find leftmost and rightmost point of highlight on page\n",
    "                leftX = foundTxtLst[0].top_left.x\n",
    "                leftY = foundTxtLst[0].top_left.y\n",
    "                rightX = foundTxtLst[-1].bottom_right.x\n",
    "                rightY = foundTxtLst[-1].bottom_right.y\n",
    "                \n",
    "                for rect in foundTxtLst:\n",
    "                    if rect.top_left.x < leftX:\n",
    "                        leftX = rect.top_left.x\n",
    "                    if rect.top_left.y < leftY:\n",
    "                        leftY = rect.top_left.y\n",
    "                    if rect.bottom_right.x > rightX:\n",
    "                        rightX = rect.bottom_right.x\n",
    "                    if rect.bottom_right.x > rightY:\n",
    "                        rightY = rect.bottom_right.y\n",
    "              \n",
    "                page.add_highlight_annot(fitz.Rect(fitz.Point(leftX, leftY), \n",
    "                                                   fitz.Point(rightX, rightY)))\n",
    "                    \n",
    "        pdfDoc.save(fileInfo[0], incremental=True, encryption=fitz.PDF_ENCRYPT_KEEP)\n",
    "        fileToClear = fileInfo[0]\n",
    "        \n",
    "        # clear output cell and render new file\n",
    "        out.clear_output()\n",
    "        @out.capture()\n",
    "        def render():\n",
    "            display(IFrame(src=fileInfo[0],width=400, height=600))\n",
    "        render()\n",
    "\n",
    "        outPgNum.clear_output()\n",
    "        @outPgNum.capture()\n",
    "        def renderPgNum():\n",
    "            display(HTML(\"<p> File Name: \" + fileInfo[0] + \"</p>\"))\n",
    "            display(HTML(\"<p> Page Number: \" + str(foundPgNum) + \"</p>\"))\n",
    "        renderPgNum()\n",
    "        \n",
    "    button.on_click(functools.partial(on_button_click, fileInfo=(answer['fileName'], answer['context'])))\n",
    "    display(button)\n",
    "\n",
    "\n"
   ]
  },
  {
   "cell_type": "code",
   "execution_count": 8,
   "id": "192c5f68-2ca8-4fb1-a668-e7a5d2761362",
   "metadata": {},
   "outputs": [],
   "source": [
    "# TEST CELL\n",
    "\n",
    "# def open_file(filename, pgNum):\n",
    "#     \"\"\" UNUSED \"\"\"\n",
    "#     currDir = os.getcwdb()\n",
    "    \n",
    "#     # opens file in default browser at specific page, NOTE: assumes that file is in current directory and Chrome is installed\n",
    "#     fileLoc = \"file:///\" + str(currDir)[2:][:-1] + \"/\" + filename + \"#page=\" + str(pgNum)\n",
    "#     (webbrowser.get(using='chrome')).open(fileLoc)  \n",
    "\n",
    "#     # alternative method - not specific to page\n",
    "#     # fileLoc = \"file:///\" + str(currDir)[2:][:-1] + \"/\" + filename + \"#page=\" + str(pgNum)\n",
    "#     # webbrowser.open(fileLoc)"
   ]
  },
  {
   "cell_type": "code",
   "execution_count": 9,
   "id": "b69fb256-4e84-48b7-9af2-9c657210f9f0",
   "metadata": {},
   "outputs": [],
   "source": [
    "# TEST CELL\n",
    "\n",
    "# import ipywidgets as widgets\n",
    "# from IPython.display import display, IFrame\n",
    "\n",
    "# out = widgets.Output(layout={'border': '1px solid black', 'width':'400px', 'height':'600px'})\n",
    "# display(out)\n",
    "\n",
    "# @out.capture()\n",
    "# def render():\n",
    "#     display(IFrame(src=\"sample-pdf-cs-1.pdf\",width=400, height=600))\n",
    "\n",
    "# render()\n",
    "\n",
    "# but = widgets.Button(description='test')\n",
    "# def test_click(button):\n",
    "#     out.clear_output()\n",
    "# but.on_click(test_click)\n",
    "# display(but)"
   ]
  },
  {
   "cell_type": "code",
   "execution_count": 10,
   "id": "9157fd85-7077-4a45-bc15-d96199e8aa5a",
   "metadata": {},
   "outputs": [],
   "source": [
    "# TEST CELL\n",
    "\n",
    "# tab = widgets.Tab(children=[widgets.IntSlider(), widgets.Text()], titles=('Slider', 'Text'))\n",
    "# test = widgets.Button(description='test')\n",
    "\n",
    "# def test_click(button):\n",
    "    \n",
    "#     tab.titles = tab.titles + tuple([\"test\"])\n",
    "#     print(tab.titles)\n",
    "#     tab.children = tab.children + tuple([widgets.Text()])\n",
    "    \n",
    "# test.on_click(test_click)\n",
    "# display(tab, test)"
   ]
  },
  {
   "cell_type": "code",
   "execution_count": 11,
   "id": "158bca01-b368-4722-abef-caed9a6da9aa",
   "metadata": {
    "scrolled": true
   },
   "outputs": [],
   "source": [
    "# TEST CELL\n",
    "\n",
    "# from IPython.display import IFrame\n",
    "# fra = IFrame(\"sample-pdf-cs-1.pdf\", width=600, height=400)\n",
    "# display(fra)\n",
    "# fra.layout.visibility = 'hidden'\n",
    "\n",
    "# img = widgets.Image(value=file_upload.value[0].content.tobytes(), width = 400, height=600)\n",
    "# display(img)\n",
    "# widgets.HTML(\n",
    "#     value='''<embed src=\"sample-pdf-cs-1.pdf#page=2\" type=\"application/pdf\" width=\"100%\" height=\"600px\" />''',\n",
    "#     placeholder='Some HTML',\n",
    "#     description='Some HTML',\n",
    "# )\n",
    "\n",
    "# HTML(''' <embed src=\"sample-pdf-cs-1.pdf#page=2\" type=\"application/pdf\" width=\"100%\" height=\"600px\" /> ''')\n",
    "# HTML('''<object\n",
    "# \tdata=\"sample-pdf-cs-1.pdf#page=2\"\n",
    "# \ttype=\"application/pdf\"\n",
    "# \twidth=\"600\"\n",
    "# \theight=\"400\">\n",
    "# \t<p>\n",
    "# \t\tYour browser does not support PDFs.\n",
    "# \t\t<a href=\"sample-pdf-cs-1.pdf\">Download the PDF</a>.\n",
    "# \t</p>\n",
    "# </object>''')\n",
    "\n",
    "# h = widgets.HTML('''<iframe src=\"sample-pdf-cs-1.pdf\" width=400 height=600></iframe>''')\n",
    "# display(h)\n",
    "\n",
    "# HTML('''<p>\n",
    "# \tOpen a PDF file\n",
    "# \t<a href=\"sample-pdf-cs-1.pdf#page=2\">example</a>\n",
    "# </p>''')\n",
    "\n",
    "# from wand.image import Image as WImage\n",
    "# img = WImage(filename='sample-pdf-cs-1.pdf[2]')\n",
    "# img"
   ]
  },
  {
   "cell_type": "code",
   "execution_count": null,
   "id": "7b3398ee-b7dd-45b1-b104-0c82b5661724",
   "metadata": {},
   "outputs": [],
   "source": []
  }
 ],
 "metadata": {
  "kernelspec": {
   "display_name": "env",
   "language": "python",
   "name": "env"
  },
  "language_info": {
   "codemirror_mode": {
    "name": "ipython",
    "version": 3
   },
   "file_extension": ".py",
   "mimetype": "text/x-python",
   "name": "python",
   "nbconvert_exporter": "python",
   "pygments_lexer": "ipython3",
   "version": "3.11.0"
  }
 },
 "nbformat": 4,
 "nbformat_minor": 5
}
