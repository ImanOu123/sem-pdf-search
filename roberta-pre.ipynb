{
 "cells": [
  {
   "cell_type": "code",
   "execution_count": 39,
   "id": "b04abb50-2227-4f50-91c0-431116657c58",
   "metadata": {
    "scrolled": true
   },
   "outputs": [
    {
     "data": {
      "text/html": [
       "<script>\n",
       "code_show=true;\n",
       "function code_toggle() {\n",
       "    if (code_show){\n",
       "        $('div.input').hide();\n",
       "    } else {\n",
       "        $('div.input').show();\n",
       "    }\n",
       "    code_show = !code_show\n",
       "}\n",
       "$(document).ready(code_toggle);\n",
       "</script>\n",
       "Click <a href=\"javascript:code_toggle()\">here</a> to toggle on/off the code cells."
      ],
      "text/plain": [
       "<IPython.core.display.HTML object>"
      ]
     },
     "execution_count": 39,
     "metadata": {},
     "output_type": "execute_result"
    }
   ],
   "source": [
    "from IPython.display import HTML\n",
    "\n",
    "HTML('''<script>\n",
    "code_show=true;\n",
    "function code_toggle() {\n",
    "    if (code_show){\n",
    "        $('div.input').hide();\n",
    "    } else {\n",
    "        $('div.input').show();\n",
    "    }\n",
    "    code_show = !code_show\n",
    "}\n",
    "$(document).ready(code_toggle);\n",
    "</script>\n",
    "Click <a href=\"javascript:code_toggle()\">here</a> to toggle on/off the code cells.''')\n",
    "\n"
   ]
  },
  {
   "cell_type": "code",
   "execution_count": 55,
   "id": "c6ffe8ca",
   "metadata": {},
   "outputs": [
    {
     "data": {
      "application/vnd.jupyter.widget-view+json": {
       "model_id": "d64cac35fdeb48d796ab244165137768",
       "version_major": 2,
       "version_minor": 0
      },
      "text/plain": [
       "FileUpload(value=(), description='Upload', multiple=True)"
      ]
     },
     "metadata": {},
     "output_type": "display_data"
    },
    {
     "data": {
      "application/vnd.jupyter.widget-view+json": {
       "model_id": "78145aba69c5453cae599ef1747e9f7d",
       "version_major": 2,
       "version_minor": 0
      },
      "text/plain": [
       "Output()"
      ]
     },
     "metadata": {},
     "output_type": "display_data"
    }
   ],
   "source": [
    "import ipywidgets as widgets\n",
    "from IPython.display import display\n",
    "import warnings\n",
    "warnings.filterwarnings('ignore')\n",
    "\n",
    "# Create the file upload widget\n",
    "file_upload = widgets.FileUpload(\n",
    "    accept='',  # Accepted file types (e.g., '.txt', '.pdf', '.jpg', '.csv', etc.); leave empty for all file types\n",
    "    multiple=True  # Set to True if you want to allow multiple files to be uploaded\n",
    ")\n",
    "\n",
    "fileListOutput = widgets.Output()\n",
    "\n",
    "# Display the widget\n",
    "display(file_upload, fileListOutput)\n",
    "\n",
    "def on_value_change(change):\n",
    "    with fileListOutput:\n",
    "        fileListOutput.clear_output()\n",
    "        print(\"Uploaded Files: \")\n",
    "        for file in change['new']:\n",
    "            print(\"\\n\" + file['name'])\n",
    "\n",
    "\n",
    "file_upload.observe(on_value_change, names='value')"
   ]
  },
  {
   "cell_type": "code",
   "execution_count": 56,
   "id": "240cf634",
   "metadata": {},
   "outputs": [
    {
     "data": {
      "application/vnd.jupyter.widget-view+json": {
       "model_id": "f145eec9fe6f424cb0e66c5b7a4a576f",
       "version_major": 2,
       "version_minor": 0
      },
      "text/plain": [
       "Button(description='Load the data', style=ButtonStyle())"
      ]
     },
     "metadata": {},
     "output_type": "display_data"
    }
   ],
   "source": [
    "import io\n",
    "import PyPDF2\n",
    "import ipywidgets as widgets\n",
    "import torch\n",
    "from sentence_transformers import SentenceTransformer\n",
    "from transformers import AutoTokenizer, AutoModelForQuestionAnswering\n",
    "from sklearn.metrics.pairwise import cosine_similarity\n",
    "import numpy as np\n",
    "from tqdm import tqdm\n",
    "\n",
    "documents = []\n",
    "embeddings = []\n",
    "\n",
    "def create_embeddings(documents, model_name=\"paraphrase-MiniLM-L6-v2\"):\n",
    "    #device = torch.device(\"cuda\" if torch.cuda.is_available() else print(\"cpu\"))\n",
    "    model = SentenceTransformer(model_name)\n",
    "    #model.to(\"cuda\")\n",
    "    embeddings = model.encode(documents)\n",
    "    \n",
    "    return embeddings\n",
    "\n",
    "def split_string(input_string, chunk_size):\n",
    "    return [input_string[i:i+chunk_size] for i in range(0, len(input_string), chunk_size)]\n",
    "\n",
    "def upload_file(file_upload, i):\n",
    "    global documents\n",
    "    global embeddings\n",
    "\n",
    "    text_content = ''\n",
    "\n",
    "    # Get the uploaded file's content\n",
    "    uploaded_file_data = [f.content.tobytes() for f in file_upload.value]\n",
    "    \n",
    "    # Get the uploaded file's content - OLD IPYWIDGETS\n",
    "    # for file, attributes in file_upload.value.items():\n",
    "    #     content = attributes.get('content') \n",
    "    #     uploaded_file_data.append(content)    \n",
    "    \n",
    "    uploaded_file_content = uploaded_file_data[i]\n",
    "    \n",
    "    # Convert the uploaded file content to a readable file-like buffer\n",
    "    file_buffer = io.BytesIO(uploaded_file_content)\n",
    "\n",
    "    # Read the PDF file using PyPDF2\n",
    "    pdf_reader = PyPDF2.PdfReader(file_buffer)\n",
    "\n",
    "    # Extract the text content from the PDF\n",
    "    text_content = ''\n",
    "    for page_num in tqdm(range(len(pdf_reader.pages)), desc='Processing pages'):\n",
    "        page = pdf_reader.pages[page_num]\n",
    "        text_content += page.extract_text()\n",
    "\n",
    "    # on last iteration add the information to documents and embeddings\n",
    "    if page_num == (len(pdf_reader.pages)-1):\n",
    "        documents.append(split_string(text_content, 1000))\n",
    "    \n",
    "        # Create document embeddings for semantic search\n",
    "        embeddings.append(create_embeddings(documents[i]))        \n",
    "\n",
    "# for file, attributes in file_upload.value.items():\n",
    "#     content = attributes.get('content') \n",
    "#     uploaded_file_data.append(content)\n",
    "    \n",
    "button = widgets.Button(description=\"Load the data\")\n",
    "\n",
    "def on_button_click(b):\n",
    "    if file_upload.value:\n",
    "        for i in range(len(file_upload.value)):\n",
    "            upload_file(file_upload, i)\n",
    "            print(\"Data loaded successfully!\")\n",
    "    else:\n",
    "        print(\"No files uploaded\")\n",
    "\n",
    "button.on_click(on_button_click)\n",
    "\n",
    "display(button)"
   ]
  },
  {
   "cell_type": "code",
   "execution_count": 57,
   "id": "55bdc6d2",
   "metadata": {},
   "outputs": [
    {
     "data": {
      "application/vnd.jupyter.widget-view+json": {
       "model_id": "e440766ec04740eb8acf8a9640714432",
       "version_major": 2,
       "version_minor": 0
      },
      "text/plain": [
       "Text(value='', placeholder='Enter your question here')"
      ]
     },
     "metadata": {},
     "output_type": "display_data"
    },
    {
     "data": {
      "application/vnd.jupyter.widget-view+json": {
       "model_id": "f02ca61bcf8e46aba7ba2be88530b004",
       "version_major": 2,
       "version_minor": 0
      },
      "text/plain": [
       "Button(description='Search', style=ButtonStyle())"
      ]
     },
     "metadata": {},
     "output_type": "display_data"
    }
   ],
   "source": [
    "import torch\n",
    "from sentence_transformers import SentenceTransformer\n",
    "from transformers import AutoTokenizer, AutoModelForQuestionAnswering\n",
    "from sklearn.metrics.pairwise import cosine_similarity\n",
    "import numpy as np\n",
    "from IPython.display import clear_output\n",
    "\n",
    "\n",
    "from transformers import logging\n",
    "\n",
    "logging.set_verbosity_error()\n",
    "\n",
    "def retrieve_passages(query, documents, embeddings, top_k=5):\n",
    "    model = SentenceTransformer(\"paraphrase-MiniLM-L6-v2\")\n",
    "    #model.to(\"cuda\")\n",
    "\n",
    "    query_embedding = model.encode([query])[0]\n",
    "    similarities = cosine_similarity(query_embedding.reshape(1, -1), embeddings)\n",
    "\n",
    "    #top_indices = np.argsort(similarities[0])[-top_k:][::-1]\n",
    "\n",
    "    threshold = 0.4  \n",
    "    top_indices = np.argsort(similarities[0])[::-1][:top_k][similarities[0][np.argsort(similarities[0])[::-1][:top_k]] >= threshold]\n",
    "\n",
    "    return [documents[i] for i in top_indices]\n",
    "    \n",
    "def extract_answer(question, passage, model_name=\"roberta-large\"):\n",
    "    tokenizer = AutoTokenizer.from_pretrained(model_name)\n",
    "    model = AutoModelForQuestionAnswering.from_pretrained(model_name)\n",
    "\n",
    "    inputs = tokenizer.encode_plus(question, str(passage), return_tensors=\"pt\", max_length=512, truncation=True, padding='max_length', return_offsets_mapping=True)\n",
    "    input_ids = inputs[\"input_ids\"]\n",
    "    attention_mask = inputs[\"attention_mask\"]\n",
    "    offset_mapping = inputs[\"offset_mapping\"].squeeze(0)\n",
    "\n",
    "    outputs = model(input_ids, attention_mask=attention_mask)\n",
    "\n",
    "    answer_start = torch.argmax(outputs.start_logits)\n",
    "    answer_end = torch.argmax(outputs.end_logits)\n",
    "\n",
    "    answer_start_char = offset_mapping[answer_start][0]\n",
    "    answer_end_char = offset_mapping[answer_end][1]\n",
    "    answer = passage[answer_start_char:answer_end_char]\n",
    "\n",
    "    return answer\n",
    "\n",
    "def qa_system(question, documents, embeddings, model_name=\"roberta-large\", top_k=5):\n",
    "        answers = []\n",
    "        # keys = list(file_upload.value.keys())\n",
    "    \n",
    "        # iterate over all files to extract answers from each one\n",
    "        for i in range(len(documents)):\n",
    "            passages = retrieve_passages(question, documents[i], embeddings[i], top_k=top_k)\n",
    "        \n",
    "            #print(passages)\n",
    "        \n",
    "            for passage in passages:\n",
    "                answer = extract_answer(question, passage, model_name=model_name)\n",
    "                answers.append({\"fileName\" : file_upload.value[i]['name'], \"answer\": answer, \"context\": passage})\n",
    "                # answers.append({\"fileName\" : file_upload.value[keys[i]]['metadata']['name'], \"answer\": answer, \"context\": passage})\n",
    "                \n",
    "        return answers\n",
    "\n",
    "import ipywidgets as widgets\n",
    "from IPython.display import display\n",
    "# This function is called when the button is clicked\n",
    "\n",
    "# Create the text field and button widgets\n",
    "text_field = widgets.Text(placeholder='Enter your question here')\n",
    "button = widgets.Button(description='Search')\n",
    "\n",
    "answers = []\n",
    "\n",
    "def on_button_click(button):\n",
    "    \n",
    "    %clear\n",
    "    clear_output(wait=True)\n",
    "    # Get the text input from the text field\n",
    "    text_input = text_field.value\n",
    "    # Display the widgets\n",
    "    text_field.value = text_input\n",
    "    display(text_field, button)   \n",
    "    \n",
    "    \n",
    "    print(\"Generating answers, please wait...\")\n",
    "    # Retrieve answers using the QA system\n",
    "    global answers\n",
    "    answers = qa_system(text_input, documents, embeddings)\n",
    "\n",
    "    # Print the answers\n",
    "    for idx, answer in enumerate(answers):\n",
    "        print(f\"Document : {answer['fileName']}, Answer {idx + 1}: {answer['answer']}\\nContext: {answer['context']}\\n\")    \n",
    "        \n",
    "    if not answers: \n",
    "        print(\"No answers available\")\n",
    "    \n",
    "# Set the callback function for the button\n",
    "button.on_click(on_button_click)\n",
    "\n",
    "# Display the widgets\n",
    "display(text_field, button)"
   ]
  },
  {
   "cell_type": "code",
   "execution_count": 58,
   "id": "fde0433e-c39c-481c-a801-09ddb952c310",
   "metadata": {},
   "outputs": [
    {
     "data": {
      "application/vnd.jupyter.widget-view+json": {
       "model_id": "cce88f8ffb12422e9f5dda364dbda6fb",
       "version_major": 2,
       "version_minor": 0
      },
      "text/plain": [
       "Button(description='Clear', style=ButtonStyle())"
      ]
     },
     "metadata": {},
     "output_type": "display_data"
    },
    {
     "data": {
      "application/vnd.jupyter.widget-view+json": {
       "model_id": "a7768d8151054fb4a5df1c978c7bd161",
       "version_major": 2,
       "version_minor": 0
      },
      "text/plain": [
       "HTML(value='<style>p{word-wrap: break-word}</style> <p> File Name: sample-pdf-cs-1.pdf</p>\\n<p> Context: -\\nip…"
      ]
     },
     "metadata": {},
     "output_type": "display_data"
    },
    {
     "data": {
      "application/vnd.jupyter.widget-view+json": {
       "model_id": "8a321a7cfc49473ab238145cc37e4a7a",
       "version_major": 2,
       "version_minor": 0
      },
      "text/plain": [
       "Button(description='Citation', style=ButtonStyle())"
      ]
     },
     "metadata": {},
     "output_type": "display_data"
    },
    {
     "data": {
      "application/vnd.jupyter.widget-view+json": {
       "model_id": "14150d7057d94708ad1b2c4a787f39ff",
       "version_major": 2,
       "version_minor": 0
      },
      "text/plain": [
       "HTML(value='<style>p{word-wrap: break-word}</style> <p> File Name: sample-pdf-cs-1.pdf</p>\\n<p> Context: tenti…"
      ]
     },
     "metadata": {},
     "output_type": "display_data"
    },
    {
     "data": {
      "application/vnd.jupyter.widget-view+json": {
       "model_id": "81b69ab7456f4c1fa2b39552a751fbd2",
       "version_major": 2,
       "version_minor": 0
      },
      "text/plain": [
       "Button(description='Citation', style=ButtonStyle())"
      ]
     },
     "metadata": {},
     "output_type": "display_data"
    },
    {
     "data": {
      "application/vnd.jupyter.widget-view+json": {
       "model_id": "29c539a5ad4c4536b6ac29281a4a60ea",
       "version_major": 2,
       "version_minor": 0
      },
      "text/plain": [
       "HTML(value='<style>p{word-wrap: break-word}</style> <p> File Name: sample-pdf-cs-1.pdf</p>\\n<p> Context: advan…"
      ]
     },
     "metadata": {},
     "output_type": "display_data"
    },
    {
     "data": {
      "application/vnd.jupyter.widget-view+json": {
       "model_id": "0ac93d53e653421ca67d864c1b511b07",
       "version_major": 2,
       "version_minor": 0
      },
      "text/plain": [
       "Button(description='Citation', style=ButtonStyle())"
      ]
     },
     "metadata": {},
     "output_type": "display_data"
    },
    {
     "data": {
      "application/vnd.jupyter.widget-view+json": {
       "model_id": "9609129547e545fd91749d3bbaf0fc5a",
       "version_major": 2,
       "version_minor": 0
      },
      "text/plain": [
       "HTML(value='<style>p{word-wrap: break-word}</style> <p> File Name: sample-pdf-cs-1.pdf</p>\\n<p> Context: e sim…"
      ]
     },
     "metadata": {},
     "output_type": "display_data"
    },
    {
     "data": {
      "application/vnd.jupyter.widget-view+json": {
       "model_id": "5f668b6f28d44b9691da10b50efcebc3",
       "version_major": 2,
       "version_minor": 0
      },
      "text/plain": [
       "Button(description='Citation', style=ButtonStyle())"
      ]
     },
     "metadata": {},
     "output_type": "display_data"
    },
    {
     "data": {
      "application/vnd.jupyter.widget-view+json": {
       "model_id": "f00a496dd2754e699ab1d977f021f7c1",
       "version_major": 2,
       "version_minor": 0
      },
      "text/plain": [
       "HTML(value='<style>p{word-wrap: break-word}</style> <p> File Name: sample-pdf-cs-1.pdf</p>\\n<p> Context: ustra…"
      ]
     },
     "metadata": {},
     "output_type": "display_data"
    },
    {
     "data": {
      "application/vnd.jupyter.widget-view+json": {
       "model_id": "3ba6cddf5e8341d09d64cd8117fea8da",
       "version_major": 2,
       "version_minor": 0
      },
      "text/plain": [
       "Button(description='Citation', style=ButtonStyle())"
      ]
     },
     "metadata": {},
     "output_type": "display_data"
    }
   ],
   "source": [
    "# OPTION #1 - OPENS FILE AS URL \n",
    "\n",
    "import ipywidgets as widgets\n",
    "from IPython.display import display, IFrame\n",
    "import fitz \n",
    "import functools\n",
    "import string\n",
    "import os, sys, subprocess\n",
    "import webbrowser\n",
    "    \n",
    "fileToClear = ''\n",
    "def clear_file():\n",
    "    if fileToClear != '':\n",
    "        pdfDoc = fitz.open(fileToClear)\n",
    "    \n",
    "        # iterates pages and removes annotations generated by fitz\n",
    "        for pgNum in range(len(pdfDoc)):\n",
    "            page = pdfDoc[pgNum]\n",
    "    \n",
    "            pdfDoc.xref_set_key(page.xref, \"Annots\", \"[]\")\n",
    "        \n",
    "        pdfDoc.save(fileToClear, incremental=True, encryption=fitz.PDF_ENCRYPT_KEEP)\n",
    "\n",
    "def clear_btn_click(button): clear_file();\n",
    "\n",
    "def open_file(filename, pgNum):\n",
    "    currDir = os.getcwdb()\n",
    "\n",
    "    # opens file in default browser at specific page, NOTE: assumes that file is in current directory and Chrome is installed\n",
    "    fileLoc = \"file:///\" + str(currDir)[2:][:-1] + \"/\" + filename.replace(\" \", \"%20\") + \"#page=\" + str(pgNum)\n",
    "\n",
    "    (webbrowser.get(using='chrome')).open(fileLoc)      \n",
    "    \n",
    "\n",
    "# https://bobbyhadz.com/blog/python-remove-non-ascii-characters-from-string\n",
    "def remove_non_ascii(txt):\n",
    "    ascii_chars = set(string.printable)\n",
    "\n",
    "    return ''.join(\n",
    "        filter(lambda x: x in ascii_chars, txt)\n",
    "    )\n",
    "    \n",
    "def show_results():\n",
    "    \n",
    "    # button to remove highlight and clear output \n",
    "    fileToClear = ''\n",
    "    clearBtn = widgets.Button(description=\"Clear\")\n",
    "\n",
    "    foundPgNum = -1   \n",
    "    \n",
    "    clearBtn.on_click(clear_btn_click)\n",
    "    display(clearBtn)\n",
    "\n",
    "    # iterate through all answers \n",
    "    for idx, answer in enumerate(answers):\n",
    "\n",
    "        # display answer\n",
    "        label = widgets.HTML(value=\"<style>p{word-wrap: break-word}</style> <p> File Name: \" + answer['fileName'] + \"</p>\"  + \"\\n<p> Context: \" + answer['context'] + \"</p>\")\n",
    "        display(label)\n",
    "\n",
    "        # button to highlight context on original PDF\n",
    "        button = widgets.Button(description='Citation')\n",
    "\n",
    "        def on_button_click(button, fileInfo=(\"\", \"\")):\n",
    "            global foundPgNum\n",
    "            global fileToClear\n",
    "\n",
    "            # if direct change from file to file, clear previous file\n",
    "            clear_file()\n",
    "\n",
    "            pdfDoc = fitz.open(fileInfo[0])        \n",
    "            found = False\n",
    "\n",
    "            # iterate through pages in file\n",
    "            for pgNum in range(len(pdfDoc)):\n",
    "            \n",
    "                foundTxtLst = []\n",
    "                page = pdfDoc[pgNum]\n",
    "                \n",
    "                contextLst = [line for line in fileInfo[1].split('\\n') if line.strip() not in {\"\", \"-\", \"/\", \".\"}]\n",
    "\n",
    "                print(fileInfo[1])\n",
    "                \n",
    "                # highlight sections and open file\n",
    "                blocks = page.get_text(\"dict\")[\"blocks\"]\n",
    "                \n",
    "                for block in blocks: \n",
    "                    \n",
    "                    # look for text block by line\n",
    "                    if block['type'] == 0:\n",
    "                        for line in block['lines']:\n",
    "                            text = \"\"\n",
    "                            bbox = []\n",
    "     \n",
    "                            for span in line['spans']:\n",
    "                                \n",
    "                                # extract bbox and text of line\n",
    "                                bbox.append(span['bbox'])\n",
    "                                text = text + \" \" + span['text']                    \n",
    "                                    \n",
    "                                # check if text corresponds to context in contextLst\n",
    "                            for context in contextLst:\n",
    "                                # if found: \n",
    "                                #     print(\"\\n context \" + remove_non_ascii(context).replace(\" \", \"\") + \" text \" + remove_non_ascii(text).replace(\" \", \"\"))\n",
    "                                    \n",
    "                                if remove_non_ascii(context).replace(\" \", \"\") == remove_non_ascii(text).replace(\" \", \"\"):\n",
    "                                    # save pg number of where context is found\n",
    "                                    if not found:\n",
    "                                        foundPgNum = pgNum + 1\n",
    "                                        found = True\n",
    "                                            \n",
    "                                    # highlight found context in page, using bbox coords of first and last bbox of line\n",
    "                                    page.add_highlight_annot((bbox[0][0], bbox[0][1], bbox[-1][2], bbox[-1][3]))\n",
    "\n",
    "                                    # remove found context from context list\n",
    "                                    contextLst.remove(context)\n",
    "                                    break\n",
    "                                    \n",
    "\n",
    "            pdfDoc.save(fileInfo[0], incremental=True, encryption=fitz.PDF_ENCRYPT_KEEP)\n",
    "            fileToClear = fileInfo[0]\n",
    "            \n",
    "            open_file(fileInfo[0], foundPgNum)\n",
    "\n",
    "\n",
    "        button.on_click(functools.partial(on_button_click, fileInfo=(answer['fileName'], answer['context'])))\n",
    "        display(button)\n",
    " \n",
    "if answers: show_results()"
   ]
  },
  {
   "cell_type": "code",
   "execution_count": null,
   "id": "94d290c9",
   "metadata": {},
   "outputs": [],
   "source": [
    "# OPTION #2 - INLINE GUI \n",
    "\n",
    "# import ipywidgets as widgets\n",
    "# from IPython.display import display, IFrame, FileLink\n",
    "# import fitz \n",
    "# import functools\n",
    "# import string\n",
    "# import os, sys, subprocess\n",
    "# import webbrowser\n",
    "\n",
    "# if answers:\n",
    "#     def fix_text(context):\n",
    "#         contextFix = (context).replace(\"-\", \"\")\n",
    "    \n",
    "#         ascii_chars = set(string.printable)\n",
    "#         contextFix = ''.join(filter(lambda x: x in ascii_chars, contextFix))\n",
    "\n",
    "#         return contextFix\n",
    "        \n",
    "#     def preprocess_context(context):\n",
    "#         # removing hyphen, newline and non-ascii characters\n",
    "#         contextFix = fix_text(context)\n",
    "    \n",
    "#         contextFixLst = contextFix.split(\"\\n\")\n",
    "    \n",
    "#         contextFixLstWOWhite = []\n",
    "#         for contextFix in contextFixLst:\n",
    "#             if not all(ch==\" \" for ch in contextFix):\n",
    "#                 contextFixLstWOWhite.append(contextFix)\n",
    "                \n",
    "#         # split content into a list of lines\n",
    "#         return contextFixLstWOWhite\n",
    "    \n",
    "#     # to display relevant PDF\n",
    "#     out = widgets.Output(layout={'border': '1px solid black', 'width':'400px', 'height':'600px'})\n",
    "#     display(out)\n",
    "    \n",
    "#     # to display page number\n",
    "#     outPgNum = widgets.Output(layout={'width':'300px', 'height':'50px'})\n",
    "#     display(outPgNum)\n",
    "    \n",
    "#     # button to remove highlight and clear output \n",
    "#     fileToClear = ''\n",
    "#     clearBtn = widgets.Button(description=\"Clear\")\n",
    "    \n",
    "#     foundPgNum = -1\n",
    "    \n",
    "#     def clear_file():\n",
    "#         if fileToClear != '':\n",
    "#             pdfDoc = fitz.open(fileToClear)\n",
    "        \n",
    "#             # iterates pages and removes annotations generated by fitz\n",
    "#             for pgNum in range(len(pdfDoc)):\n",
    "#                 page = pdfDoc[pgNum]\n",
    "        \n",
    "#                 pdfDoc.xref_set_key(page.xref, \"Annots\", \"[]\")\n",
    "            \n",
    "#             pdfDoc.save(fileToClear, incremental=True, encryption=fitz.PDF_ENCRYPT_KEEP)\n",
    "    \n",
    "#             # clear output cell \n",
    "#             out.clear_output()\n",
    "#             outPgNum.clear_output()\n",
    "    \n",
    "#     def clear_btn_click(button): clear_file();\n",
    "#     clearBtn.on_click(clear_btn_click)\n",
    "#     display(clearBtn)\n",
    "    \n",
    "#     # iterate through all answers \n",
    "#     for idx, answer in enumerate(answers):\n",
    "        \n",
    "#         # display answer\n",
    "#         label = widgets.HTML(value=\"<style>p{word-wrap: break-word}</style> <p> File Name: \" + answer['fileName'] + \"</p>\" + \n",
    "#                              \"\\n<p> Answer: \" + answer['answer'] + \"</p>\")\n",
    "#         display(label)\n",
    "    \n",
    "#         # button to highlight context on original PDF\n",
    "#         button = widgets.Button(description='Context')\n",
    "    \n",
    "#         def on_button_click(button, fileInfo=(\"\", \"\")):\n",
    "#             global foundPgNum\n",
    "#             global fileToClear\n",
    "            \n",
    "#             # if direct change from file to file, clear previous file\n",
    "#             clear_file()\n",
    "            \n",
    "#             pdfDoc = fitz.open(fileInfo[0])        \n",
    "#             found = False                    \n",
    "                \n",
    "#             # iterate through pages in file\n",
    "#             for pgNum in range(len(pdfDoc)):\n",
    "            \n",
    "#                 page = pdfDoc[pgNum]            \n",
    "#                 contextLst = preprocess_context(fileInfo[1])\n",
    "                \n",
    "#                 found = False\n",
    "                \n",
    "#                 # highlight sections and open file\n",
    "                \n",
    "#                 blocks = page.get_text(\"dict\")[\"blocks\"]\n",
    "                \n",
    "#                 for block in blocks: \n",
    "                    \n",
    "#                     # look for text block by line\n",
    "#                     if block['type'] == 0:\n",
    "                        \n",
    "#                         for line in block['lines']:\n",
    "#                             for span in line['spans']:\n",
    "                                \n",
    "#                                 # extract bbox and text of line\n",
    "#                                 bbox = span['bbox']\n",
    "#                                 text = span['text']\n",
    "\n",
    "#                                 # check if text corresponds to context in contextLst\n",
    "#                                 for context in contextLst:\n",
    "    \n",
    "#                                     if context.replace(\" \", \"\") == fix_text(text).replace(\" \", \"\"):\n",
    "#                                         # save pg number of where context is found\n",
    "#                                         if not found:\n",
    "#                                             foundPgNum = pgNum + 1\n",
    "#                                             found = True\n",
    "                                            \n",
    "#                                         # highlight found context in page\n",
    "#                                         page.add_highlight_annot(bbox)\n",
    "            \n",
    "#             pdfDoc.save(fileInfo[0], incremental=True, encryption=fitz.PDF_ENCRYPT_KEEP)\n",
    "#             fileToClear = fileInfo[0]\n",
    "            \n",
    "#             # clear output cell and render new file\n",
    "#             out.clear_output()\n",
    "#             @out.capture()\n",
    "#             def render():\n",
    "#                 display(IFrame(src=fileInfo[0],width=400, height=600))\n",
    "#             render()\n",
    "    \n",
    "#             outPgNum.clear_output()\n",
    "#             @outPgNum.capture()\n",
    "#             def renderPgNum():\n",
    "#                 display(HTML(\"<p> File Name: \" + fileInfo[0] + \"</p>\"))\n",
    "#                 display(HTML(\"<p> Page Number: \" + str(foundPgNum) + \"</p>\"))\n",
    "#             renderPgNum()\n",
    "            \n",
    "#         button.on_click(functools.partial(on_button_click, fileInfo=(answer['fileName'], answer['context'])))\n",
    "#         display(button)\n"
   ]
  },
  {
   "cell_type": "code",
   "execution_count": 6,
   "id": "192c5f68-2ca8-4fb1-a668-e7a5d2761362",
   "metadata": {
    "jupyter": {
     "source_hidden": true
    }
   },
   "outputs": [],
   "source": [
    "# TEST CELL\n",
    "\n",
    "# def open_file(filename, pgNum):\n",
    "#     \"\"\" UNUSED \"\"\"\n",
    "#     currDir = os.getcwdb()\n",
    "    \n",
    "#     # opens file in default browser at specific page, NOTE: assumes that file is in current directory and Chrome is installed\n",
    "#     fileLoc = \"file:///\" + str(currDir)[2:][:-1] + \"/\" + filename + \"#page=\" + str(pgNum)\n",
    "#     (webbrowser.get(using='chrome')).open(fileLoc)  \n",
    "\n",
    "#     # alternative method - not specific to page\n",
    "#     # fileLoc = \"file:///\" + str(currDir)[2:][:-1] + \"/\" + filename + \"#page=\" + str(pgNum)\n",
    "#     # webbrowser.open(fileLoc)"
   ]
  },
  {
   "cell_type": "code",
   "execution_count": 7,
   "id": "b69fb256-4e84-48b7-9af2-9c657210f9f0",
   "metadata": {},
   "outputs": [],
   "source": [
    "# TEST CELL\n",
    "\n",
    "# import ipywidgets as widgets\n",
    "# from IPython.display import display, IFrame\n",
    "\n",
    "# out = widgets.Output(layout={'border': '1px solid black', 'width':'400px', 'height':'600px'})\n",
    "# display(out)\n",
    "\n",
    "# @out.capture()\n",
    "# def render():\n",
    "#     display(IFrame(src=\"sample-pdf-cs-1.pdf\",width=400, height=600))\n",
    "\n",
    "# render()\n",
    "\n",
    "# but = widgets.Button(description='test')\n",
    "# def test_click(button):\n",
    "#     out.clear_output()\n",
    "# but.on_click(test_click)\n",
    "# display(but)"
   ]
  },
  {
   "cell_type": "code",
   "execution_count": 8,
   "id": "9157fd85-7077-4a45-bc15-d96199e8aa5a",
   "metadata": {
    "jupyter": {
     "source_hidden": true
    }
   },
   "outputs": [],
   "source": [
    "# TEST CELL\n",
    "\n",
    "# tab = widgets.Tab(children=[widgets.IntSlider(), widgets.Text()], titles=('Slider', 'Text'))\n",
    "# test = widgets.Button(description='test')\n",
    "\n",
    "# def test_click(button):\n",
    "    \n",
    "#     tab.titles = tab.titles + tuple([\"test\"])\n",
    "#     print(tab.titles)\n",
    "#     tab.children = tab.children + tuple([widgets.Text()])\n",
    "    \n",
    "# test.on_click(test_click)\n",
    "# display(tab, test)"
   ]
  },
  {
   "cell_type": "code",
   "execution_count": 9,
   "id": "158bca01-b368-4722-abef-caed9a6da9aa",
   "metadata": {
    "scrolled": true
   },
   "outputs": [],
   "source": [
    "# TEST CELL\n",
    "\n",
    "# from IPython.display import IFrame\n",
    "# fra = IFrame(\"sample-pdf-cs-1.pdf\", width=600, height=400)\n",
    "# display(fra)\n",
    "# fra.layout.visibility = 'hidden'\n",
    "\n",
    "# img = widgets.Image(value=file_upload.value[0].content.tobytes(), width = 400, height=600)\n",
    "# display(img)\n",
    "# widgets.HTML(\n",
    "#     value='''<embed src=\"sample-pdf-cs-1.pdf#page=2\" type=\"application/pdf\" width=\"100%\" height=\"600px\" />''',\n",
    "#     placeholder='Some HTML',\n",
    "#     description='Some HTML',\n",
    "# )\n",
    "\n",
    "# HTML(''' <embed src=\"sample-pdf-cs-1.pdf#page=2\" type=\"application/pdf\" width=\"100%\" height=\"600px\" /> ''')\n",
    "# HTML('''<object\n",
    "# \tdata=\"sample-pdf-cs-1.pdf#page=2\"\n",
    "# \ttype=\"application/pdf\"\n",
    "# \twidth=\"600\"\n",
    "# \theight=\"400\">\n",
    "# \t<p>\n",
    "# \t\tYour browser does not support PDFs.\n",
    "# \t\t<a href=\"sample-pdf-cs-1.pdf\">Download the PDF</a>.\n",
    "# \t</p>\n",
    "# </object>''')\n",
    "\n",
    "# h = widgets.HTML('''<iframe src=\"sample-pdf-cs-1.pdf\" width=400 height=600></iframe>''')\n",
    "# display(h)\n",
    "\n",
    "# HTML('''<p>\n",
    "# \tOpen a PDF file\n",
    "# \t<a href=\"sample-pdf-cs-1.pdf#page=2\">example</a>\n",
    "# </p>''')\n",
    "\n",
    "# from wand.image import Image as WImage\n",
    "# img = WImage(filename='sample-pdf-cs-1.pdf[2]')\n",
    "# img"
   ]
  },
  {
   "cell_type": "code",
   "execution_count": null,
   "id": "7b3398ee-b7dd-45b1-b104-0c82b5661724",
   "metadata": {
    "jupyter": {
     "source_hidden": true
    }
   },
   "outputs": [],
   "source": []
  }
 ],
 "metadata": {
  "kernelspec": {
   "display_name": "env",
   "language": "python",
   "name": "env"
  },
  "language_info": {
   "codemirror_mode": {
    "name": "ipython",
    "version": 3
   },
   "file_extension": ".py",
   "mimetype": "text/x-python",
   "name": "python",
   "nbconvert_exporter": "python",
   "pygments_lexer": "ipython3",
   "version": "3.11.0"
  }
 },
 "nbformat": 4,
 "nbformat_minor": 5
}
